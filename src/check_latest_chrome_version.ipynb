{
 "cells": [
  {
   "cell_type": "code",
   "execution_count": 31,
   "id": "0c028a71",
   "metadata": {},
   "outputs": [],
   "source": [
    "import requests\n",
    "import re\n",
    "import pandas as pd\n",
    "import numpy as np\n",
    "import bs4\n",
    "import json"
   ]
  },
  {
   "cell_type": "code",
   "execution_count": 101,
   "id": "c51dc469",
   "metadata": {},
   "outputs": [
    {
     "name": "stdout",
     "output_type": "stream",
     "text": [
      "Release date: 06/21/22\n",
      "Stable version: 103.0.5060.53\n",
      "Stable major version: 103\n"
     ]
    }
   ],
   "source": [
    "# Get most recent Chrome stable version\n",
    "\n",
    "\n",
    "url = 'http://omahaproxy.appspot.com/all.json'\n",
    "\n",
    "resp = requests.get(url)\n",
    "data = json.loads(resp.text)\n",
    "\n",
    "\n",
    "releasedate = (data[0]['versions'][-1]['current_reldate'])\n",
    "stable = (data[0]['versions'][-1]['current_version'])\n",
    "stable_major = int(re.search('(\\d+)',stable).group(1))\n",
    "\n",
    "print(f'Release date: {releasedate}')\n",
    "print(f'Stable version: {stable}')\n",
    "print(f'Stable major version: {stable_major}')\n"
   ]
  },
  {
   "cell_type": "code",
   "execution_count": 80,
   "id": "36893c29",
   "metadata": {},
   "outputs": [
    {
     "data": {
      "text/html": [
       "<div>\n",
       "<style scoped>\n",
       "    .dataframe tbody tr th:only-of-type {\n",
       "        vertical-align: middle;\n",
       "    }\n",
       "\n",
       "    .dataframe tbody tr th {\n",
       "        vertical-align: top;\n",
       "    }\n",
       "\n",
       "    .dataframe thead th {\n",
       "        text-align: right;\n",
       "    }\n",
       "</style>\n",
       "<table border=\"1\" class=\"dataframe\">\n",
       "  <thead>\n",
       "    <tr style=\"text-align: right;\">\n",
       "      <th></th>\n",
       "      <th>useragent</th>\n",
       "    </tr>\n",
       "  </thead>\n",
       "  <tbody>\n",
       "    <tr>\n",
       "      <th>0</th>\n",
       "      <td>Mozilla/5.0 (Windows NT 10.0; Win64; x64) Appl...</td>\n",
       "    </tr>\n",
       "    <tr>\n",
       "      <th>1</th>\n",
       "      <td>Mozilla/5.0 (Windows NT 10.0; WOW64) AppleWebK...</td>\n",
       "    </tr>\n",
       "    <tr>\n",
       "      <th>2</th>\n",
       "      <td>Mozilla/5.0 (Windows NT 10.0; Win64; x64) Appl...</td>\n",
       "    </tr>\n",
       "    <tr>\n",
       "      <th>3</th>\n",
       "      <td>Mozilla/5.0 (Windows NT 10.0; Win64; x64) Appl...</td>\n",
       "    </tr>\n",
       "  </tbody>\n",
       "</table>\n",
       "</div>"
      ],
      "text/plain": [
       "                                           useragent\n",
       "0  Mozilla/5.0 (Windows NT 10.0; Win64; x64) Appl...\n",
       "1  Mozilla/5.0 (Windows NT 10.0; WOW64) AppleWebK...\n",
       "2  Mozilla/5.0 (Windows NT 10.0; Win64; x64) Appl...\n",
       "3  Mozilla/5.0 (Windows NT 10.0; Win64; x64) Appl..."
      ]
     },
     "execution_count": 80,
     "metadata": {},
     "output_type": "execute_result"
    }
   ],
   "source": [
    "# get a list of useragents from any internal logging source from your internal tools or similar.\n",
    "\n",
    "d = {'useragent':(\"Mozilla/5.0 (Windows NT 10.0; Win64; x64) AppleWebKit/537.36 (KHTML, like Gecko) Chrome/74.0.3729.169 Safari/537.36)\",\"Mozilla/5.0 (Windows NT 10.0; WOW64) AppleWebKit/537.36 (KHTML, like Gecko) Chrome/72.0.3626.121 Safari/537.36\",\"Mozilla/5.0 (Windows NT 10.0; Win64; x64) AppleWebKit/537.36 (KHTML, like Gecko) Chrome/74.0.3729.157 Safari/537.36\",\"Mozilla/5.0 (Windows NT 10.0; Win64; x64) AppleWebKit/537.36 (KHTML, like Gecko) Chrome/96.0.4664.110 Safari/537.36\")}\n",
    "df = pd.DataFrame(d)\n",
    "df"
   ]
  },
  {
   "cell_type": "code",
   "execution_count": 81,
   "id": "f87da812",
   "metadata": {},
   "outputs": [
    {
     "data": {
      "text/html": [
       "<div>\n",
       "<style scoped>\n",
       "    .dataframe tbody tr th:only-of-type {\n",
       "        vertical-align: middle;\n",
       "    }\n",
       "\n",
       "    .dataframe tbody tr th {\n",
       "        vertical-align: top;\n",
       "    }\n",
       "\n",
       "    .dataframe thead th {\n",
       "        text-align: right;\n",
       "    }\n",
       "</style>\n",
       "<table border=\"1\" class=\"dataframe\">\n",
       "  <thead>\n",
       "    <tr style=\"text-align: right;\">\n",
       "      <th></th>\n",
       "      <th>major_version</th>\n",
       "      <th>full_version</th>\n",
       "    </tr>\n",
       "  </thead>\n",
       "  <tbody>\n",
       "    <tr>\n",
       "      <th>0</th>\n",
       "      <td>74</td>\n",
       "      <td>74.0.3729.169</td>\n",
       "    </tr>\n",
       "    <tr>\n",
       "      <th>1</th>\n",
       "      <td>72</td>\n",
       "      <td>72.0.3626.121</td>\n",
       "    </tr>\n",
       "    <tr>\n",
       "      <th>2</th>\n",
       "      <td>74</td>\n",
       "      <td>74.0.3729.157</td>\n",
       "    </tr>\n",
       "    <tr>\n",
       "      <th>3</th>\n",
       "      <td>96</td>\n",
       "      <td>96.0.4664.110</td>\n",
       "    </tr>\n",
       "  </tbody>\n",
       "</table>\n",
       "</div>"
      ],
      "text/plain": [
       "  major_version   full_version\n",
       "0            74  74.0.3729.169\n",
       "1            72  72.0.3626.121\n",
       "2            74  74.0.3729.157\n",
       "3            96  96.0.4664.110"
      ]
     },
     "execution_count": 81,
     "metadata": {},
     "output_type": "execute_result"
    }
   ],
   "source": [
    "# ideally we want to regex the Chrome version during extraction, with SQL for example\n",
    "# otherwise we can do it in notebook:\n",
    "\n",
    "df['major_version'] = df['useragent'].str.extract(r'Chrome/(\\d+)')\n",
    "df['full_version'] = df['useragent'].str.extract(r'Chrome/(\\d+.\\d+.\\d+.\\d+)')\n",
    "df = df.drop(columns='useragent')\n",
    "df"
   ]
  },
  {
   "cell_type": "code",
   "execution_count": 105,
   "id": "2f978357",
   "metadata": {},
   "outputs": [
    {
     "name": "stdout",
     "output_type": "stream",
     "text": [
      "You are 29 versions behind stable. Latest version is 103.0.5060.53 and was released 06/21/22\n",
      "You are 31 versions behind stable. Latest version is 103.0.5060.53 and was released 06/21/22\n",
      "You are 29 versions behind stable. Latest version is 103.0.5060.53 and was released 06/21/22\n",
      "You are 7 versions behind stable. Latest version is 103.0.5060.53 and was released 06/21/22\n"
     ]
    }
   ],
   "source": [
    "# remaining part can be customized to any liking.\n",
    "# in the final part you should send out an email, slack messages or some sort of report to remind the user to update their version\n",
    "\n",
    "for x in df['major_version']:\n",
    "    if int(x) < stable_major:\n",
    "        print(f\"You are {stable_major - int(x)} versions behind stable. Latest version is {stable} and was released {releasedate}\")\n",
    "    else:\n",
    "        pass"
   ]
  },
  {
   "cell_type": "code",
   "execution_count": null,
   "id": "dfcd0ba7",
   "metadata": {},
   "outputs": [],
   "source": []
  }
 ],
 "metadata": {
  "kernelspec": {
   "display_name": "Python 3 (ipykernel)",
   "language": "python",
   "name": "python3"
  },
  "language_info": {
   "codemirror_mode": {
    "name": "ipython",
    "version": 3
   },
   "file_extension": ".py",
   "mimetype": "text/x-python",
   "name": "python",
   "nbconvert_exporter": "python",
   "pygments_lexer": "ipython3",
   "version": "3.9.12"
  }
 },
 "nbformat": 4,
 "nbformat_minor": 5
}
